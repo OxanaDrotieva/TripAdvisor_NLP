{
  "cells": [
    {
      "cell_type": "code",
      "execution_count": 1,
      "id": "226c302f",
      "metadata": {
        "id": "226c302f"
      },
      "outputs": [],
      "source": [
        "import pandas as pd\n",
        "import seaborn as sns\n",
        "import matplotlib.pyplot as plt\n",
        "import matplotlib.dates as mdates\n",
        "from statistics import mean\n",
        "from sklearn.model_selection import train_test_split\n",
        "\n",
        "import numpy as np\n",
        "\n",
        "import tensorflow as tf\n",
        "from tensorflow import keras\n",
        "from pylab import rcParams\n",
        "import string\n",
        "import re\n",
        "import math\n",
        "from matplotlib import rc\n",
        "from sklearn.model_selection import train_test_split\n",
        "from collections import Counter, defaultdict\n",
        "from sklearn.metrics import accuracy_score\n",
        "import matplotlib.ticker as ticker\n",
        "from math import sqrt\n",
        "\n",
        "\n",
        "from sklearn.metrics import mean_squared_error\n",
        "\n",
        "%matplotlib inline\n",
        "\n",
        "sns.set(style='whitegrid', palette='muted', font_scale=1.3)\n",
        "\n",
        "rcParams['figure.figsize'] = 14, 8\n",
        "\n",
        "RANDOM_SEED = 42\n",
        "\n",
        "np.random.seed(RANDOM_SEED)"
      ]
    },
    {
      "cell_type": "code",
      "source": [
        "import tensorflow as tf\n",
        "device_name = tf.test.gpu_device_name()\n",
        "if device_name != '/device:GPU:0':\n",
        "  raise SystemError('GPU device not found')\n",
        "print('Found GPU at: {}'.format(device_name))"
      ],
      "metadata": {
        "colab": {
          "base_uri": "https://localhost:8080/"
        },
        "id": "507gugtehbwx",
        "outputId": "8426206f-5be3-4ff1-f799-dfb48adfafad"
      },
      "id": "507gugtehbwx",
      "execution_count": 2,
      "outputs": [
        {
          "output_type": "stream",
          "name": "stdout",
          "text": [
            "Found GPU at: /device:GPU:0\n"
          ]
        }
      ]
    },
    {
      "cell_type": "code",
      "source": [
        "from google.colab import drive\n",
        "drive.mount('/content/drive')"
      ],
      "metadata": {
        "colab": {
          "base_uri": "https://localhost:8080/"
        },
        "id": "HWzQ8x4R6GBG",
        "outputId": "4444d977-bf33-4dcc-efbd-95ecc505751a"
      },
      "id": "HWzQ8x4R6GBG",
      "execution_count": 3,
      "outputs": [
        {
          "output_type": "stream",
          "name": "stdout",
          "text": [
            "Drive already mounted at /content/drive; to attempt to forcibly remount, call drive.mount(\"/content/drive\", force_remount=True).\n"
          ]
        }
      ]
    },
    {
      "cell_type": "code",
      "execution_count": 4,
      "id": "f0e075fd",
      "metadata": {
        "id": "f0e075fd",
        "outputId": "4f563c5e-7cb8-40a0-9c39-2adf77da114d",
        "colab": {
          "base_uri": "https://localhost:8080/",
          "height": 452
        }
      },
      "outputs": [
        {
          "output_type": "execute_result",
          "data": {
            "text/plain": [
              "  restaurant_name  rating_review    sample             title_review  \\\n",
              "1            Lido              5  Positive          a regular treat   \n",
              "2            Lido              4  Positive  good neighborhood spot!   \n",
              "3            Lido              1  Negative            disappointing   \n",
              "4            Lido              5  Positive    what a find in harlem   \n",
              "5            Lido              5  Positive                    lunch   \n",
              "\n",
              "                                      review_preview  \\\n",
              "1  my wife and i have been eating dinner frequent...   \n",
              "2  came with family for labor day weekend brunch ...   \n",
              "3  food was mediocre at best.  the lamb chops are...   \n",
              "4  my co-workers were volunteering at a foodbank ...   \n",
              "5  lido is an intimate boutique style restaurant....   \n",
              "\n",
              "                                         review_full        date author_id  \n",
              "1  my wife and i have been eating dinner frequent...  2020-10-08     UID_0  \n",
              "2  came with family for labor day weekend brunch ...  2020-09-08     UID_1  \n",
              "3  food was mediocre at best. the lamb chops are ...  2020-02-17     UID_2  \n",
              "4  my co-workers were volunteering at a foodbank ...  2019-11-25     UID_3  \n",
              "5  lido is an intimate boutique style restaurant....  2019-11-23     UID_4  "
            ],
            "text/html": [
              "\n",
              "\n",
              "  <div id=\"df-2fa7c466-6059-4a0c-ac9d-1b6dfcf37c10\">\n",
              "    <div class=\"colab-df-container\">\n",
              "      <div>\n",
              "<style scoped>\n",
              "    .dataframe tbody tr th:only-of-type {\n",
              "        vertical-align: middle;\n",
              "    }\n",
              "\n",
              "    .dataframe tbody tr th {\n",
              "        vertical-align: top;\n",
              "    }\n",
              "\n",
              "    .dataframe thead th {\n",
              "        text-align: right;\n",
              "    }\n",
              "</style>\n",
              "<table border=\"1\" class=\"dataframe\">\n",
              "  <thead>\n",
              "    <tr style=\"text-align: right;\">\n",
              "      <th></th>\n",
              "      <th>restaurant_name</th>\n",
              "      <th>rating_review</th>\n",
              "      <th>sample</th>\n",
              "      <th>title_review</th>\n",
              "      <th>review_preview</th>\n",
              "      <th>review_full</th>\n",
              "      <th>date</th>\n",
              "      <th>author_id</th>\n",
              "    </tr>\n",
              "  </thead>\n",
              "  <tbody>\n",
              "    <tr>\n",
              "      <th>1</th>\n",
              "      <td>Lido</td>\n",
              "      <td>5</td>\n",
              "      <td>Positive</td>\n",
              "      <td>a regular treat</td>\n",
              "      <td>my wife and i have been eating dinner frequent...</td>\n",
              "      <td>my wife and i have been eating dinner frequent...</td>\n",
              "      <td>2020-10-08</td>\n",
              "      <td>UID_0</td>\n",
              "    </tr>\n",
              "    <tr>\n",
              "      <th>2</th>\n",
              "      <td>Lido</td>\n",
              "      <td>4</td>\n",
              "      <td>Positive</td>\n",
              "      <td>good neighborhood spot!</td>\n",
              "      <td>came with family for labor day weekend brunch ...</td>\n",
              "      <td>came with family for labor day weekend brunch ...</td>\n",
              "      <td>2020-09-08</td>\n",
              "      <td>UID_1</td>\n",
              "    </tr>\n",
              "    <tr>\n",
              "      <th>3</th>\n",
              "      <td>Lido</td>\n",
              "      <td>1</td>\n",
              "      <td>Negative</td>\n",
              "      <td>disappointing</td>\n",
              "      <td>food was mediocre at best.  the lamb chops are...</td>\n",
              "      <td>food was mediocre at best. the lamb chops are ...</td>\n",
              "      <td>2020-02-17</td>\n",
              "      <td>UID_2</td>\n",
              "    </tr>\n",
              "    <tr>\n",
              "      <th>4</th>\n",
              "      <td>Lido</td>\n",
              "      <td>5</td>\n",
              "      <td>Positive</td>\n",
              "      <td>what a find in harlem</td>\n",
              "      <td>my co-workers were volunteering at a foodbank ...</td>\n",
              "      <td>my co-workers were volunteering at a foodbank ...</td>\n",
              "      <td>2019-11-25</td>\n",
              "      <td>UID_3</td>\n",
              "    </tr>\n",
              "    <tr>\n",
              "      <th>5</th>\n",
              "      <td>Lido</td>\n",
              "      <td>5</td>\n",
              "      <td>Positive</td>\n",
              "      <td>lunch</td>\n",
              "      <td>lido is an intimate boutique style restaurant....</td>\n",
              "      <td>lido is an intimate boutique style restaurant....</td>\n",
              "      <td>2019-11-23</td>\n",
              "      <td>UID_4</td>\n",
              "    </tr>\n",
              "  </tbody>\n",
              "</table>\n",
              "</div>\n",
              "      <button class=\"colab-df-convert\" onclick=\"convertToInteractive('df-2fa7c466-6059-4a0c-ac9d-1b6dfcf37c10')\"\n",
              "              title=\"Convert this dataframe to an interactive table.\"\n",
              "              style=\"display:none;\">\n",
              "\n",
              "  <svg xmlns=\"http://www.w3.org/2000/svg\" height=\"24px\"viewBox=\"0 0 24 24\"\n",
              "       width=\"24px\">\n",
              "    <path d=\"M0 0h24v24H0V0z\" fill=\"none\"/>\n",
              "    <path d=\"M18.56 5.44l.94 2.06.94-2.06 2.06-.94-2.06-.94-.94-2.06-.94 2.06-2.06.94zm-11 1L8.5 8.5l.94-2.06 2.06-.94-2.06-.94L8.5 2.5l-.94 2.06-2.06.94zm10 10l.94 2.06.94-2.06 2.06-.94-2.06-.94-.94-2.06-.94 2.06-2.06.94z\"/><path d=\"M17.41 7.96l-1.37-1.37c-.4-.4-.92-.59-1.43-.59-.52 0-1.04.2-1.43.59L10.3 9.45l-7.72 7.72c-.78.78-.78 2.05 0 2.83L4 21.41c.39.39.9.59 1.41.59.51 0 1.02-.2 1.41-.59l7.78-7.78 2.81-2.81c.8-.78.8-2.07 0-2.86zM5.41 20L4 18.59l7.72-7.72 1.47 1.35L5.41 20z\"/>\n",
              "  </svg>\n",
              "      </button>\n",
              "\n",
              "\n",
              "\n",
              "    <div id=\"df-e279aeb1-3f76-48ae-8063-bb07884c112f\">\n",
              "      <button class=\"colab-df-quickchart\" onclick=\"quickchart('df-e279aeb1-3f76-48ae-8063-bb07884c112f')\"\n",
              "              title=\"Suggest charts.\"\n",
              "              style=\"display:none;\">\n",
              "\n",
              "<svg xmlns=\"http://www.w3.org/2000/svg\" height=\"24px\"viewBox=\"0 0 24 24\"\n",
              "     width=\"24px\">\n",
              "    <g>\n",
              "        <path d=\"M19 3H5c-1.1 0-2 .9-2 2v14c0 1.1.9 2 2 2h14c1.1 0 2-.9 2-2V5c0-1.1-.9-2-2-2zM9 17H7v-7h2v7zm4 0h-2V7h2v10zm4 0h-2v-4h2v4z\"/>\n",
              "    </g>\n",
              "</svg>\n",
              "      </button>\n",
              "    </div>\n",
              "\n",
              "<style>\n",
              "  .colab-df-quickchart {\n",
              "    background-color: #E8F0FE;\n",
              "    border: none;\n",
              "    border-radius: 50%;\n",
              "    cursor: pointer;\n",
              "    display: none;\n",
              "    fill: #1967D2;\n",
              "    height: 32px;\n",
              "    padding: 0 0 0 0;\n",
              "    width: 32px;\n",
              "  }\n",
              "\n",
              "  .colab-df-quickchart:hover {\n",
              "    background-color: #E2EBFA;\n",
              "    box-shadow: 0px 1px 2px rgba(60, 64, 67, 0.3), 0px 1px 3px 1px rgba(60, 64, 67, 0.15);\n",
              "    fill: #174EA6;\n",
              "  }\n",
              "\n",
              "  [theme=dark] .colab-df-quickchart {\n",
              "    background-color: #3B4455;\n",
              "    fill: #D2E3FC;\n",
              "  }\n",
              "\n",
              "  [theme=dark] .colab-df-quickchart:hover {\n",
              "    background-color: #434B5C;\n",
              "    box-shadow: 0px 1px 3px 1px rgba(0, 0, 0, 0.15);\n",
              "    filter: drop-shadow(0px 1px 2px rgba(0, 0, 0, 0.3));\n",
              "    fill: #FFFFFF;\n",
              "  }\n",
              "</style>\n",
              "\n",
              "    <script>\n",
              "      async function quickchart(key) {\n",
              "        const containerElement = document.querySelector('#' + key);\n",
              "        const charts = await google.colab.kernel.invokeFunction(\n",
              "            'suggestCharts', [key], {});\n",
              "      }\n",
              "    </script>\n",
              "\n",
              "      <script>\n",
              "\n",
              "function displayQuickchartButton(domScope) {\n",
              "  let quickchartButtonEl =\n",
              "    domScope.querySelector('#df-e279aeb1-3f76-48ae-8063-bb07884c112f button.colab-df-quickchart');\n",
              "  quickchartButtonEl.style.display =\n",
              "    google.colab.kernel.accessAllowed ? 'block' : 'none';\n",
              "}\n",
              "\n",
              "        displayQuickchartButton(document);\n",
              "      </script>\n",
              "      <style>\n",
              "    .colab-df-container {\n",
              "      display:flex;\n",
              "      flex-wrap:wrap;\n",
              "      gap: 12px;\n",
              "    }\n",
              "\n",
              "    .colab-df-convert {\n",
              "      background-color: #E8F0FE;\n",
              "      border: none;\n",
              "      border-radius: 50%;\n",
              "      cursor: pointer;\n",
              "      display: none;\n",
              "      fill: #1967D2;\n",
              "      height: 32px;\n",
              "      padding: 0 0 0 0;\n",
              "      width: 32px;\n",
              "    }\n",
              "\n",
              "    .colab-df-convert:hover {\n",
              "      background-color: #E2EBFA;\n",
              "      box-shadow: 0px 1px 2px rgba(60, 64, 67, 0.3), 0px 1px 3px 1px rgba(60, 64, 67, 0.15);\n",
              "      fill: #174EA6;\n",
              "    }\n",
              "\n",
              "    [theme=dark] .colab-df-convert {\n",
              "      background-color: #3B4455;\n",
              "      fill: #D2E3FC;\n",
              "    }\n",
              "\n",
              "    [theme=dark] .colab-df-convert:hover {\n",
              "      background-color: #434B5C;\n",
              "      box-shadow: 0px 1px 3px 1px rgba(0, 0, 0, 0.15);\n",
              "      filter: drop-shadow(0px 1px 2px rgba(0, 0, 0, 0.3));\n",
              "      fill: #FFFFFF;\n",
              "    }\n",
              "  </style>\n",
              "\n",
              "      <script>\n",
              "        const buttonEl =\n",
              "          document.querySelector('#df-2fa7c466-6059-4a0c-ac9d-1b6dfcf37c10 button.colab-df-convert');\n",
              "        buttonEl.style.display =\n",
              "          google.colab.kernel.accessAllowed ? 'block' : 'none';\n",
              "\n",
              "        async function convertToInteractive(key) {\n",
              "          const element = document.querySelector('#df-2fa7c466-6059-4a0c-ac9d-1b6dfcf37c10');\n",
              "          const dataTable =\n",
              "            await google.colab.kernel.invokeFunction('convertToInteractive',\n",
              "                                                     [key], {});\n",
              "          if (!dataTable) return;\n",
              "\n",
              "          const docLinkHtml = 'Like what you see? Visit the ' +\n",
              "            '<a target=\"_blank\" href=https://colab.research.google.com/notebooks/data_table.ipynb>data table notebook</a>'\n",
              "            + ' to learn more about interactive tables.';\n",
              "          element.innerHTML = '';\n",
              "          dataTable['output_type'] = 'display_data';\n",
              "          await google.colab.output.renderOutput(dataTable, element);\n",
              "          const docLink = document.createElement('div');\n",
              "          docLink.innerHTML = docLinkHtml;\n",
              "          element.appendChild(docLink);\n",
              "        }\n",
              "      </script>\n",
              "    </div>\n",
              "  </div>\n"
            ]
          },
          "metadata": {},
          "execution_count": 4
        }
      ],
      "source": [
        "NY_reviews = pd.read_csv('/content/drive/MyDrive/DS4A Team4/New_York_reviews_cleaned.csv', index_col=0)\n",
        "NY_reviews.head()"
      ]
    },
    {
      "cell_type": "code",
      "execution_count": 5,
      "id": "87f35bce",
      "metadata": {
        "id": "87f35bce"
      },
      "outputs": [],
      "source": [
        "import scipy.sparse as sp\n",
        "from scipy.sparse.linalg import svds"
      ]
    },
    {
      "cell_type": "code",
      "execution_count": 6,
      "id": "83809fa6",
      "metadata": {
        "id": "83809fa6",
        "outputId": "3df22d5c-bb05-4713-8601-ffc50f0399ab",
        "colab": {
          "base_uri": "https://localhost:8080/"
        }
      },
      "outputs": [
        {
          "output_type": "stream",
          "name": "stdout",
          "text": [
            "         author_id         restaurant_name  review_count  avg_rating\n",
            "17592    UID_10761             Ess_a_Bagel            11    5.000000\n",
            "338941     UID_438            P_J_Clarke_s            10    4.600000\n",
            "437325   UID_76880           Comfort_Diner            10    5.000000\n",
            "476335   UID_91316    Da_Marino_Restaurant            10    5.000000\n",
            "247630   UID_23231    Wonton_Noodle_Garden             9    4.222222\n",
            "...            ...                     ...           ...         ...\n",
            "63299   UID_127903                Treehaus             2    3.000000\n",
            "247799  UID_232443            Bodega_Negra             2    5.000000\n",
            "129546  UID_161229     Blue_Smoke_Flatiron             2    5.000000\n",
            "317091   UID_37510    Le_CouCou_Restaurant             2    5.000000\n",
            "120422  UID_156355  John_s_of_Times_Square             2    5.000000\n",
            "\n",
            "[11139 rows x 4 columns]\n"
          ]
        }
      ],
      "source": [
        "#check and aggregate the multiple reviews by one author for a single restaurant\n",
        "grouped = NY_reviews.groupby(['author_id', 'restaurant_name'])\n",
        "\n",
        "review_counts = grouped.size().reset_index(name='review_count')\n",
        "\n",
        "review_avg = grouped['rating_review'].mean().reset_index(name='review_avg')\n",
        "\n",
        "review_counts['avg_rating'] = review_avg['review_avg']\n",
        "\n",
        "multi_review_list = review_counts.sort_values(by='review_count', ascending=False)\n",
        "\n",
        "print(multi_review_list[multi_review_list['review_count']>1])"
      ]
    },
    {
      "cell_type": "code",
      "execution_count": 7,
      "id": "ecc2c192",
      "metadata": {
        "id": "ecc2c192"
      },
      "outputs": [],
      "source": [
        "ratings = multi_review_list.pivot(index = 'author_id', columns = 'restaurant_name', values = 'avg_rating')"
      ]
    },
    {
      "cell_type": "code",
      "execution_count": 8,
      "id": "ccaa1379",
      "metadata": {
        "id": "ccaa1379"
      },
      "outputs": [],
      "source": [
        "ratings = ratings.fillna(0).values"
      ]
    },
    {
      "cell_type": "code",
      "execution_count": 9,
      "id": "1a9e7ebb",
      "metadata": {
        "id": "1a9e7ebb",
        "outputId": "c7aae30f-1734-409b-cf71-7f01edc9d722",
        "colab": {
          "base_uri": "https://localhost:8080/"
        }
      },
      "outputs": [
        {
          "output_type": "stream",
          "name": "stdout",
          "text": [
            "0.11%\n"
          ]
        }
      ],
      "source": [
        "#check sparsity\n",
        "sparsity = float(len(ratings.nonzero()[0]))\n",
        "sparsity /= (ratings.shape[0] * ratings.shape[1])\n",
        "sparsity *= 100\n",
        "print('{:.2f}%'.format(sparsity))"
      ]
    },
    {
      "cell_type": "code",
      "execution_count": 10,
      "id": "1afd2722",
      "metadata": {
        "id": "1afd2722"
      },
      "outputs": [],
      "source": [
        "#Do we also need to write our own train_test_split function?\n",
        "train, val = train_test_split(ratings)"
      ]
    },
    {
      "cell_type": "code",
      "execution_count": 11,
      "id": "d7c3afc1",
      "metadata": {
        "id": "d7c3afc1",
        "outputId": "d7b1fd8d-fdf0-4337-839a-42d2a2c56e4a",
        "colab": {
          "base_uri": "https://localhost:8080/"
        }
      },
      "outputs": [
        {
          "output_type": "execute_result",
          "data": {
            "text/plain": [
              "(187425, 1805)"
            ]
          },
          "metadata": {},
          "execution_count": 11
        }
      ],
      "source": [
        "train.shape"
      ]
    },
    {
      "cell_type": "code",
      "execution_count": 12,
      "id": "0e5d4afa",
      "metadata": {
        "id": "0e5d4afa",
        "outputId": "0a3333b1-3d3a-443a-f365-8bb303ba0f1a",
        "colab": {
          "base_uri": "https://localhost:8080/"
        }
      },
      "outputs": [
        {
          "output_type": "execute_result",
          "data": {
            "text/plain": [
              "(62476, 1805)"
            ]
          },
          "metadata": {},
          "execution_count": 12
        }
      ],
      "source": [
        "val.shape"
      ]
    },
    {
      "cell_type": "code",
      "execution_count": 13,
      "id": "0109e2bd",
      "metadata": {
        "id": "0109e2bd"
      },
      "outputs": [],
      "source": [
        "#root mean squared error\n",
        "def rmse(prediction, ground_truth):\n",
        "    prediction = prediction[ground_truth.nonzero()].flatten()\n",
        "    ground_truth = ground_truth[ground_truth.nonzero()].flatten()\n",
        "    return sqrt(mean_squared_error(prediction, ground_truth))"
      ]
    },
    {
      "cell_type": "code",
      "execution_count": 14,
      "id": "62814555",
      "metadata": {
        "id": "62814555"
      },
      "outputs": [],
      "source": [
        "class Recommender:\n",
        "  def __init__(self, n_epochs=200, n_latent_features=3, lmbda=0.1, learning_rate=0.001):\n",
        "    self.n_epochs = n_epochs\n",
        "    self.n_latent_features = n_latent_features\n",
        "    self.lmbda = lmbda\n",
        "    self.learning_rate = learning_rate\n",
        "\n",
        "  def predictions(self, P, Q):\n",
        "    return np.dot(P.T, Q)\n",
        "\n",
        "  def fit(self, X_train, X_val):\n",
        "    m, n = X_train.shape\n",
        "\n",
        "    self.P = 3 * np.random.rand(self.n_latent_features, m)\n",
        "    self.Q = 3 * np.random.rand(self.n_latent_features, n)\n",
        "\n",
        "    self.train_error = []\n",
        "    self.val_error = []\n",
        "\n",
        "    users, items = X_train.nonzero()\n",
        "\n",
        "    for epoch in range(self.n_epochs):\n",
        "      for u, i in zip(users, items):\n",
        "        error = X_train[u, i] - self.predictions(self.P[:,u], self.Q[:,i])\n",
        "        self.P[:, u] += self.learning_rate * (error * self.Q[:, i] - self.lmbda * self.P[:, u])\n",
        "        self.Q[:, i] += self.learning_rate * (error * self.P[:, u] - self.lmbda * self.Q[:, i])\n",
        "\n",
        "      train_rmse = rmse(self.predictions(self.P, self.Q), X_train)\n",
        "      val_rmse = rmse(self.predictions(self.P, self.Q), X_val)\n",
        "      self.train_error.append(train_rmse)\n",
        "      self.val_error.append(val_rmse)\n",
        "\n",
        "    return self\n",
        "\n",
        "  def predict(self, X_train, user_index):\n",
        "    y_hat = self.predictions(self.P, self.Q)\n",
        "    predictions_index = np.where(X_train[user_index, :] == 0)[0]\n",
        "    return y_hat[user_index, predictions_index].flatten()"
      ]
    },
    {
      "cell_type": "code",
      "source": [
        "recommender = Recommender().fit(train, val)"
      ],
      "metadata": {
        "id": "eSv44QNgSfAH"
      },
      "id": "eSv44QNgSfAH",
      "execution_count": 15,
      "outputs": []
    },
    {
      "cell_type": "code",
      "source": [
        "plt.plot(range(recommender.n_epochs), recommender.train_error, marker='o', label='Training Data');\n",
        "plt.plot(range(recommender.n_epochs), recommender.val_error, marker='v', label='Validation Data');\n",
        "plt.xlabel('Number of Epochs');\n",
        "plt.ylabel('RMSE');\n",
        "plt.legend()\n",
        "plt.grid()\n",
        "plt.show()"
      ],
      "metadata": {
        "colab": {
          "base_uri": "https://localhost:8080/",
          "height": 536
        },
        "id": "TtwYN1v3TeOG",
        "outputId": "c2093711-d17e-4766-8afd-0a3d5ad9236f"
      },
      "id": "TtwYN1v3TeOG",
      "execution_count": 16,
      "outputs": [
        {
          "output_type": "display_data",
          "data": {
            "text/plain": [
              "<Figure size 1400x800 with 1 Axes>"
            ],
            "image/png": "[encoded data removed]"
          },
          "metadata": {}
        }
      ]
    },
    {
      "cell_type": "code",
      "source": [],
      "metadata": {
        "id": "6UjIoGaXevUb"
      },
      "id": "6UjIoGaXevUb",
      "execution_count": 16,
      "outputs": []
    }
  ],
  "metadata": {
    "kernelspec": {
      "display_name": "Python 3",
      "name": "python3"
    },
    "language_info": {
      "codemirror_mode": {
        "name": "ipython",
        "version": 3
      },
      "file_extension": ".py",
      "mimetype": "text/x-python",
      "name": "python",
      "nbconvert_exporter": "python",
      "pygments_lexer": "ipython3",
      "version": "3.11.3"
    },
    "colab": {
      "provenance": [],
      "gpuType": "T4",
      "cell_execution_strategy": "setup"
    },
    "accelerator": "GPU"
  },
  "nbformat": 4,
  "nbformat_minor": 5
}
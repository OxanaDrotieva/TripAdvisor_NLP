{
 "cells": [
  {
   "cell_type": "code",
   "execution_count": 1,
   "id": "226c302f",
   "metadata": {},
   "outputs": [],
   "source": [
    "import pandas as pd\n",
    "import seaborn as sns\n",
    "import matplotlib.pyplot as plt\n",
    "import matplotlib.dates as mdates\n",
    "from statistics import mean \n",
    "from sklearn.model_selection import train_test_split\n",
    "\n",
    "import numpy as np\n",
    "\n",
    "#import tensorflow as tf\n",
    "#from tensorflow import keras\n",
    "from pylab import rcParams\n",
    "import string\n",
    "import re\n",
    "import math\n",
    "from matplotlib import rc\n",
    "from sklearn.model_selection import train_test_split\n",
    "from collections import Counter, defaultdict\n",
    "from sklearn.metrics import accuracy_score\n",
    "import matplotlib.ticker as ticker\n",
    "from math import sqrt\n",
    "\n",
    "\n",
    "from sklearn.metrics import mean_squared_error\n",
    "\n",
    "%matplotlib inline\n",
    "\n",
    "sns.set(style='whitegrid', palette='muted', font_scale=1.3)\n",
    "\n",
    "rcParams['figure.figsize'] = 14, 8\n",
    "\n",
    "RANDOM_SEED = 42\n",
    "\n",
    "np.random.seed(RANDOM_SEED)"
   ]
  },
  {
   "cell_type": "code",
   "execution_count": 2,
   "id": "f0e075fd",
   "metadata": {},
   "outputs": [
    {
     "data": {
      "text/html": [
       "<div>\n",
       "<style scoped>\n",
       "    .dataframe tbody tr th:only-of-type {\n",
       "        vertical-align: middle;\n",
       "    }\n",
       "\n",
       "    .dataframe tbody tr th {\n",
       "        vertical-align: top;\n",
       "    }\n",
       "\n",
       "    .dataframe thead th {\n",
       "        text-align: right;\n",
       "    }\n",
       "</style>\n",
       "<table border=\"1\" class=\"dataframe\">\n",
       "  <thead>\n",
       "    <tr style=\"text-align: right;\">\n",
       "      <th></th>\n",
       "      <th>restaurant_name</th>\n",
       "      <th>rating_review</th>\n",
       "      <th>sample</th>\n",
       "      <th>title_review</th>\n",
       "      <th>review_preview</th>\n",
       "      <th>review_full</th>\n",
       "      <th>date</th>\n",
       "      <th>author_id</th>\n",
       "    </tr>\n",
       "  </thead>\n",
       "  <tbody>\n",
       "    <tr>\n",
       "      <th>1</th>\n",
       "      <td>Lido</td>\n",
       "      <td>5</td>\n",
       "      <td>Positive</td>\n",
       "      <td>a regular treat</td>\n",
       "      <td>my wife and i have been eating dinner frequent...</td>\n",
       "      <td>my wife and i have been eating dinner frequent...</td>\n",
       "      <td>2020-10-08</td>\n",
       "      <td>UID_0</td>\n",
       "    </tr>\n",
       "    <tr>\n",
       "      <th>2</th>\n",
       "      <td>Lido</td>\n",
       "      <td>4</td>\n",
       "      <td>Positive</td>\n",
       "      <td>good neighborhood spot!</td>\n",
       "      <td>came with family for labor day weekend brunch ...</td>\n",
       "      <td>came with family for labor day weekend brunch ...</td>\n",
       "      <td>2020-09-08</td>\n",
       "      <td>UID_1</td>\n",
       "    </tr>\n",
       "    <tr>\n",
       "      <th>3</th>\n",
       "      <td>Lido</td>\n",
       "      <td>1</td>\n",
       "      <td>Negative</td>\n",
       "      <td>disappointing</td>\n",
       "      <td>food was mediocre at best.  the lamb chops are...</td>\n",
       "      <td>food was mediocre at best. the lamb chops are ...</td>\n",
       "      <td>2020-02-17</td>\n",
       "      <td>UID_2</td>\n",
       "    </tr>\n",
       "    <tr>\n",
       "      <th>4</th>\n",
       "      <td>Lido</td>\n",
       "      <td>5</td>\n",
       "      <td>Positive</td>\n",
       "      <td>what a find in harlem</td>\n",
       "      <td>my co-workers were volunteering at a foodbank ...</td>\n",
       "      <td>my co-workers were volunteering at a foodbank ...</td>\n",
       "      <td>2019-11-25</td>\n",
       "      <td>UID_3</td>\n",
       "    </tr>\n",
       "    <tr>\n",
       "      <th>5</th>\n",
       "      <td>Lido</td>\n",
       "      <td>5</td>\n",
       "      <td>Positive</td>\n",
       "      <td>lunch</td>\n",
       "      <td>lido is an intimate boutique style restaurant....</td>\n",
       "      <td>lido is an intimate boutique style restaurant....</td>\n",
       "      <td>2019-11-23</td>\n",
       "      <td>UID_4</td>\n",
       "    </tr>\n",
       "  </tbody>\n",
       "</table>\n",
       "</div>"
      ],
      "text/plain": [
       "  restaurant_name  rating_review    sample             title_review  \\\n",
       "1            Lido              5  Positive          a regular treat   \n",
       "2            Lido              4  Positive  good neighborhood spot!   \n",
       "3            Lido              1  Negative            disappointing   \n",
       "4            Lido              5  Positive    what a find in harlem   \n",
       "5            Lido              5  Positive                    lunch   \n",
       "\n",
       "                                      review_preview  \\\n",
       "1  my wife and i have been eating dinner frequent...   \n",
       "2  came with family for labor day weekend brunch ...   \n",
       "3  food was mediocre at best.  the lamb chops are...   \n",
       "4  my co-workers were volunteering at a foodbank ...   \n",
       "5  lido is an intimate boutique style restaurant....   \n",
       "\n",
       "                                         review_full        date author_id  \n",
       "1  my wife and i have been eating dinner frequent...  2020-10-08     UID_0  \n",
       "2  came with family for labor day weekend brunch ...  2020-09-08     UID_1  \n",
       "3  food was mediocre at best. the lamb chops are ...  2020-02-17     UID_2  \n",
       "4  my co-workers were volunteering at a foodbank ...  2019-11-25     UID_3  \n",
       "5  lido is an intimate boutique style restaurant....  2019-11-23     UID_4  "
      ]
     },
     "execution_count": 2,
     "metadata": {},
     "output_type": "execute_result"
    }
   ],
   "source": [
    "NY_reviews = pd.read_csv('/Users/boyangsu/Downloads/New_York_reviews_cleaned.csv', index_col=0)\n",
    "NY_reviews.head()"
   ]
  },
  {
   "cell_type": "code",
   "execution_count": 24,
   "id": "cd13af98",
   "metadata": {},
   "outputs": [
    {
     "name": "stdout",
     "output_type": "stream",
     "text": [
      "            author_id\n",
      "UID_7760          226\n",
      "UID_3953          212\n",
      "UID_2677          195\n",
      "UID_11609         186\n",
      "UID_2618          158\n",
      "...               ...\n",
      "UID_7687            2\n",
      "UID_238106          2\n",
      "UID_66444           2\n",
      "UID_221644          2\n",
      "UID_6754            2\n",
      "\n",
      "[89934 rows x 1 columns]\n"
     ]
    }
   ],
   "source": [
    "# Count the occurrences of each author, i.e. # reviews per author\n",
    "value_counts = pd.DataFrame(NY_reviews['author_id'].value_counts())\n",
    "value_counts.rename(columns={0:'count'},inplace=True)\n",
    "print(value_counts[value_counts[\"author_id\"]>=2])"
   ]
  },
  {
   "cell_type": "code",
   "execution_count": 3,
   "id": "87f35bce",
   "metadata": {},
   "outputs": [],
   "source": [
    "import scipy.sparse as sp\n",
    "from scipy.sparse.linalg import svds"
   ]
  },
  {
   "cell_type": "code",
   "execution_count": 4,
   "id": "83809fa6",
   "metadata": {},
   "outputs": [
    {
     "name": "stdout",
     "output_type": "stream",
     "text": [
      "         author_id         restaurant_name  review_count  avg_rating\n",
      "17592    UID_10761             Ess_a_Bagel            11    5.000000\n",
      "338941     UID_438            P_J_Clarke_s            10    4.600000\n",
      "437325   UID_76880           Comfort_Diner            10    5.000000\n",
      "476335   UID_91316    Da_Marino_Restaurant            10    5.000000\n",
      "247630   UID_23231    Wonton_Noodle_Garden             9    4.222222\n",
      "...            ...                     ...           ...         ...\n",
      "63299   UID_127903                Treehaus             2    3.000000\n",
      "247799  UID_232443            Bodega_Negra             2    5.000000\n",
      "129546  UID_161229     Blue_Smoke_Flatiron             2    5.000000\n",
      "317091   UID_37510    Le_CouCou_Restaurant             2    5.000000\n",
      "120422  UID_156355  John_s_of_Times_Square             2    5.000000\n",
      "\n",
      "[11139 rows x 4 columns]\n"
     ]
    }
   ],
   "source": [
    "#check and aggregate the multiple reviews by one author for a single restaurant\n",
    "grouped = NY_reviews.groupby(['author_id', 'restaurant_name'])\n",
    "\n",
    "review_counts = grouped.size().reset_index(name='review_count')\n",
    "\n",
    "review_avg = grouped['rating_review'].mean().reset_index(name='review_avg')\n",
    "\n",
    "review_counts['avg_rating'] = review_avg['review_avg']\n",
    "\n",
    "multi_review_list = review_counts.sort_values(by='review_count', ascending=False)\n",
    "\n",
    "print(multi_review_list[multi_review_list['review_count']>1])"
   ]
  },
  {
   "cell_type": "code",
   "execution_count": 96,
   "id": "ecc2c192",
   "metadata": {},
   "outputs": [],
   "source": [
    "ratings = multi_review_list.pivot(index = 'author_id', columns = 'restaurant_name', values = 'avg_rating')\n",
    "restaurant_names = ratings.columns\n",
    "user_names = ratings.index"
   ]
  },
  {
   "cell_type": "code",
   "execution_count": 8,
   "id": "ccaa1379",
   "metadata": {},
   "outputs": [],
   "source": [
    "ratings = ratings.fillna(0).values"
   ]
  },
  {
   "cell_type": "code",
   "execution_count": 9,
   "id": "1a9e7ebb",
   "metadata": {},
   "outputs": [
    {
     "name": "stdout",
     "output_type": "stream",
     "text": [
      "0.11%\n"
     ]
    }
   ],
   "source": [
    "#check sparsity\n",
    "sparsity = float(len(ratings.nonzero()[0]))\n",
    "sparsity /= (ratings.shape[0] * ratings.shape[1])\n",
    "sparsity *= 100\n",
    "print('{:.2f}%'.format(sparsity))"
   ]
  },
  {
   "cell_type": "code",
   "execution_count": 27,
   "id": "8fe702ef",
   "metadata": {},
   "outputs": [],
   "source": [
    "MIN_USER_RATINGS = 3\n",
    "DELETE_RATING_PERCENTAGE = 1/3\n",
    "\n",
    "def train_test_split(ratings):\n",
    "    \n",
    "    validation = np.zeros(ratings.shape)\n",
    "    train = ratings.copy()\n",
    "    \n",
    "    for user in np.arange(ratings.shape[0]):\n",
    "        if len(ratings[user,:].nonzero()[0]) >= MIN_USER_RATINGS:\n",
    "            val_ratings = np.random.choice(\n",
    "                ratings[user, :].nonzero()[0], \n",
    "                size=int(DELETE_RATING_PERCENTAGE*len(ratings[user,:].nonzero()[0])),\n",
    "                replace=False\n",
    "            )\n",
    "            train[user, val_ratings] = 0\n",
    "            validation[user, val_ratings] = ratings[user, val_ratings]\n",
    "    return train, validation"
   ]
  },
  {
   "cell_type": "code",
   "execution_count": 28,
   "id": "1afd2722",
   "metadata": {},
   "outputs": [],
   "source": [
    "#Do we also need to write our own train_test_split function?\n",
    "train, val = train_test_split(ratings)"
   ]
  },
  {
   "cell_type": "code",
   "execution_count": 29,
   "id": "d7c3afc1",
   "metadata": {},
   "outputs": [
    {
     "data": {
      "text/plain": [
       "(249901, 1805)"
      ]
     },
     "execution_count": 29,
     "metadata": {},
     "output_type": "execute_result"
    }
   ],
   "source": [
    "train.shape"
   ]
  },
  {
   "cell_type": "code",
   "execution_count": 30,
   "id": "0e5d4afa",
   "metadata": {},
   "outputs": [
    {
     "data": {
      "text/plain": [
       "(249901, 1805)"
      ]
     },
     "execution_count": 30,
     "metadata": {},
     "output_type": "execute_result"
    }
   ],
   "source": [
    "val.shape"
   ]
  },
  {
   "cell_type": "code",
   "execution_count": 31,
   "id": "0109e2bd",
   "metadata": {},
   "outputs": [],
   "source": [
    "#root mean squared error\n",
    "def rmse(prediction, ground_truth):\n",
    "    prediction = prediction[ground_truth.nonzero()].flatten() \n",
    "    ground_truth = ground_truth[ground_truth.nonzero()].flatten()\n",
    "    return sqrt(mean_squared_error(prediction, ground_truth))"
   ]
  },
  {
   "cell_type": "code",
   "execution_count": 80,
   "id": "62814555",
   "metadata": {},
   "outputs": [],
   "source": [
    "class Recommender:\n",
    "    def __init__(self, n_epochs=20, n_latent_features=3, lmbda=0.1, learning_rate=0.01):\n",
    "        self.n_epochs = n_epochs\n",
    "        self.n_latent_features = n_latent_features\n",
    "        self.lmbda = lmbda\n",
    "        self.learning_rate = learning_rate\n",
    "  \n",
    "    def predictions(self, P, Q):\n",
    "        return np.dot(P.T, Q)\n",
    "  \n",
    "    def fit(self, X_train, X_val):\n",
    "        m, n = X_train.shape\n",
    "\n",
    "        self.P = 3 * np.random.rand(self.n_latent_features, m)\n",
    "        self.Q = 3 * np.random.rand(self.n_latent_features, n)\n",
    "    \n",
    "        self.train_error = []\n",
    "        self.val_error = []\n",
    "\n",
    "        users, items = X_train.nonzero()\n",
    "    \n",
    "        for epoch in range(self.n_epochs):\n",
    "            for u, i in zip(users, items):\n",
    "                error = X_train[u, i] - self.predictions(self.P[:,u], self.Q[:,i])\n",
    "                self.P[:, u] += self.learning_rate * (error * self.Q[:, i] - self.lmbda * self.P[:, u])\n",
    "                self.Q[:, i] += self.learning_rate * (error * self.P[:, u] - self.lmbda * self.Q[:, i])\n",
    "\n",
    "            train_rmse = rmse(self.predictions(self.P, self.Q), X_train)\n",
    "            val_rmse = rmse(self.predictions(self.P, self.Q), X_val)\n",
    "            self.train_error.append(train_rmse)\n",
    "            self.val_error.append(val_rmse)\n",
    "        \n",
    "        return self\n",
    "  \n",
    "    def predict(self, X_train, user_index):\n",
    "        y_hat = self.predictions(self.P, self.Q)\n",
    "        predictions_index = np.where(X_train[user_index, :] == 0)[0]\n",
    "        return y_hat[user_index, predictions_index].flatten()"
   ]
  },
  {
   "cell_type": "code",
   "execution_count": 33,
   "id": "7d183429",
   "metadata": {},
   "outputs": [],
   "source": [
    "recommender = Recommender().fit(train, val)"
   ]
  },
  {
   "cell_type": "code",
   "execution_count": 34,
   "id": "66dd589e",
   "metadata": {},
   "outputs": [
    {
     "data": {
      "image/png": "[encoded data removed]",
      "text/plain": [
       "<Figure size 1400x800 with 1 Axes>"
      ]
     },
     "metadata": {},
     "output_type": "display_data"
    }
   ],
   "source": [
    "plt.plot(range(recommender.n_epochs), recommender.train_error, marker='o', label='Training Data');\n",
    "plt.plot(range(recommender.n_epochs), recommender.val_error, marker='v', label='Validation Data');\n",
    "plt.xlabel('Number of Epochs');\n",
    "plt.ylabel('RMSE');\n",
    "plt.legend()\n",
    "plt.grid()\n",
    "plt.show()"
   ]
  },
  {
   "cell_type": "markdown",
   "id": "b363919c",
   "metadata": {},
   "source": [
    "## Example of recommending 10 restaurants to user `UID_10001`"
   ]
  },
  {
   "cell_type": "code",
   "execution_count": 81,
   "id": "70d22755",
   "metadata": {},
   "outputs": [],
   "source": [
    "user_id = 'UID_10001'\n",
    "user_index = ratings.index.get_loc(user_id)"
   ]
  },
  {
   "cell_type": "code",
   "execution_count": 86,
   "id": "ff709e5a",
   "metadata": {},
   "outputs": [],
   "source": [
    "y_hat = recommender.predictions(recommender.P, recommender.Q)\n",
    "rating_predictions = y_hat[user_index,:]"
   ]
  },
  {
   "cell_type": "code",
   "execution_count": 90,
   "id": "a4c1d53c",
   "metadata": {},
   "outputs": [
    {
     "name": "stdout",
     "output_type": "stream",
     "text": [
      "      rating_values\n",
      "0          3.806731\n",
      "1          5.456483\n",
      "2          5.819666\n",
      "3          5.825761\n",
      "4          2.523799\n",
      "...             ...\n",
      "1800       4.107249\n",
      "1801       5.692003\n",
      "1802       5.802952\n",
      "1803       3.713870\n",
      "1804       3.921224\n",
      "\n",
      "[1805 rows x 1 columns]\n"
     ]
    }
   ],
   "source": [
    "rp_df = pd.DataFrame(rating_predictions)\n",
    "rp_df.columns = [\"rating_values\"]\n",
    "print(rp_df)"
   ]
  },
  {
   "cell_type": "code",
   "execution_count": 92,
   "id": "7be0d4c4",
   "metadata": {},
   "outputs": [],
   "source": [
    "top10restaurant = rp_df.sort_values(\"rating_values\", ascending = False).head(10)"
   ]
  },
  {
   "cell_type": "code",
   "execution_count": 98,
   "id": "bac35ec6",
   "metadata": {},
   "outputs": [
    {
     "name": "stdout",
     "output_type": "stream",
     "text": [
      "             restaurant_name\n",
      "0                 Buon_Amici\n",
      "1  Crispy_Chicken_Restaurant\n",
      "2              787_Coffee_Co\n",
      "3       Shochu_and_Tapas_Aya\n",
      "4              RISE_New_York\n",
      "5                 Liquiteria\n",
      "6  Mulberry_Iconic_Magazines\n",
      "7     Lucky_Plaza_Restaurant\n",
      "8                   Taz_Cafe\n",
      "9                Auriga_Cafe\n"
     ]
    }
   ],
   "source": [
    "print(pd.DataFrame(restaurant_names[top10restaurant.index]))"
   ]
  }
 ],
 "metadata": {
  "kernelspec": {
   "display_name": "Python 3 (ipykernel)",
   "language": "python",
   "name": "python3"
  },
  "language_info": {
   "codemirror_mode": {
    "name": "ipython",
    "version": 3
   },
   "file_extension": ".py",
   "mimetype": "text/x-python",
   "name": "python",
   "nbconvert_exporter": "python",
   "pygments_lexer": "ipython3",
   "version": "3.11.3"
  }
 },
 "nbformat": 4,
 "nbformat_minor": 5
}

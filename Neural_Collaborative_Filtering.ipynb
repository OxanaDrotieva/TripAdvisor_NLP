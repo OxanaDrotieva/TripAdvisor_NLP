{
  "cells": [
    {
      "cell_type": "markdown",
      "metadata": {
        "id": "iEaHU2_BJew8"
      },
      "source": [
        "# NCF Recommendation System\n",
        "\n",
        "Modified from https://github.com/mdipietro09/DataScience_ArtificialIntelligence_Utils/blob/master/machine_learning/example_recommendation.ipynb"
      ],
      "id": "iEaHU2_BJew8"
    },
    {
      "cell_type": "markdown",
      "metadata": {
        "id": "uE-KJeCAJexA"
      },
      "source": [
        "### 0 - Setup"
      ],
      "id": "uE-KJeCAJexA"
    },
    {
      "cell_type": "markdown",
      "metadata": {
        "id": "MMPr10UEJexA"
      },
      "source": [
        "###### Import pckgs"
      ],
      "id": "MMPr10UEJexA"
    },
    {
      "cell_type": "code",
      "execution_count": null,
      "metadata": {
        "id": "7TnC_XnxJexA"
      },
      "outputs": [],
      "source": [
        "import pandas as pd\n",
        "import numpy as np\n",
        "import re\n",
        "from datetime import datetime\n",
        "import matplotlib.pyplot as plt\n",
        "import seaborn as sns\n",
        "from sklearn import metrics, preprocessing\n",
        "from tensorflow.keras import metrics, models, layers, utils  #(2.6.0)"
      ],
      "id": "7TnC_XnxJexA"
    },
    {
      "cell_type": "markdown",
      "metadata": {
        "id": "FsOUXrMXJexC"
      },
      "source": [
        "###### Import data"
      ],
      "id": "FsOUXrMXJexC"
    },
    {
      "cell_type": "code",
      "execution_count": null,
      "metadata": {
        "colab": {
          "base_uri": "https://localhost:8080/"
        },
        "id": "aUwrUu0iKm_7",
        "outputId": "c9c9c09b-f173-4088-ae73-d84459949282"
      },
      "outputs": [
        {
          "output_type": "stream",
          "name": "stdout",
          "text": [
            "Mounted at /content/drive\n"
          ]
        }
      ],
      "source": [
        "from google.colab import drive\n",
        "drive.mount('/content/drive')"
      ],
      "id": "aUwrUu0iKm_7"
    },
    {
      "cell_type": "code",
      "execution_count": null,
      "metadata": {
        "id": "5C0L5ERqK60f"
      },
      "outputs": [],
      "source": [
        "NY_reviews = pd.read_csv('/content/drive/MyDrive/DS4A Team4/New_York_reviews_cleaned.csv', index_col=0)"
      ],
      "id": "5C0L5ERqK60f"
    },
    {
      "cell_type": "markdown",
      "metadata": {
        "id": "Tv2HQ6o4JexK"
      },
      "source": [
        "###### Partitioning"
      ],
      "id": "Tv2HQ6o4JexK"
    },
    {
      "cell_type": "code",
      "execution_count": null,
      "metadata": {
        "id": "z6J5HOQ3LB4z"
      },
      "outputs": [],
      "source": [
        "#check and aggregate the multiple reviews by one author for a single restaurant\n",
        "grouped = NY_reviews.groupby(['author_id', 'restaurant_name'])\n",
        "\n",
        "review_counts = grouped.size().reset_index(name='review_count')\n",
        "\n",
        "review_avg = grouped['rating_review'].mean().reset_index(name='review_avg')\n",
        "\n",
        "review_date = grouped['date'].max().reset_index(name='review_date')\n",
        "\n",
        "review_counts['avg_rating'] = review_avg['review_avg']\n",
        "\n",
        "review_counts['date'] = review_date['review_date']\n",
        "\n",
        "multi_review_list = review_counts.sort_values(by='date', ascending=False)"
      ],
      "id": "z6J5HOQ3LB4z"
    },
    {
      "cell_type": "code",
      "execution_count": null,
      "metadata": {
        "id": "GWzPFHeyJexH"
      },
      "outputs": [],
      "source": [
        "dtf_users = multi_review_list.pivot(index = 'author_id', columns = 'restaurant_name', values = 'avg_rating')\n",
        "restaurant_names = dtf_users.columns\n",
        "user_names = dtf_users.index\n",
        "dtf_users = dtf_users.fillna(0).values"
      ],
      "id": "GWzPFHeyJexH"
    },
    {
      "cell_type": "code",
      "execution_count": null,
      "metadata": {
        "id": "W-rV4pbpQnlZ"
      },
      "outputs": [],
      "source": [
        "MIN_USER_RATINGS = 3\n",
        "\n",
        "def train_test_split(ratings):\n",
        "  validation = np.zeros(ratings.shape)\n",
        "  train = ratings.copy()\n",
        "  for user in np.arange(ratings.shape[0]):\n",
        "    if len(ratings[user,:].nonzero()[0]) >= MIN_USER_RATINGS:\n",
        "      rest_1, rest_2 = (multi_review_list[multi_review_list['author_id']==user_names[user]])['restaurant_name'][:2]\n",
        "      val_ratings = [np.where(restaurant_names==rest_1)[0][0],np.where(restaurant_names==rest_2)[0][0]]\n",
        "      train[user, val_ratings] = 0\n",
        "      validation[user, val_ratings] = ratings[user, val_ratings]\n",
        "  return train, validation"
      ],
      "id": "W-rV4pbpQnlZ"
    },
    {
      "cell_type": "code",
      "execution_count": null,
      "metadata": {
        "id": "5C3ntPTYQuO_"
      },
      "outputs": [],
      "source": [
        "dtf_train, dtf_test = train_test_split(dtf_users)"
      ],
      "id": "5C3ntPTYQuO_"
    },
    {
      "cell_type": "code",
      "execution_count": null,
      "metadata": {
        "id": "hKVbFu59U2MV"
      },
      "outputs": [],
      "source": [
        "dtf_train = pd.DataFrame(dtf_train)"
      ],
      "id": "hKVbFu59U2MV"
    },
    {
      "cell_type": "code",
      "execution_count": null,
      "metadata": {
        "id": "ybk8KRa2U7-Y"
      },
      "outputs": [],
      "source": [
        "dtf_test = pd.DataFrame(dtf_test)"
      ],
      "id": "ybk8KRa2U7-Y"
    },
    {
      "cell_type": "code",
      "source": [
        "dtf_test.index = range(0,dtf_test.shape[0])\n",
        "dtf_train.index = range(0,dtf_train.shape[0])"
      ],
      "metadata": {
        "id": "X-hlWj1sN9aG"
      },
      "id": "X-hlWj1sN9aG",
      "execution_count": null,
      "outputs": []
    },
    {
      "cell_type": "code",
      "source": [
        "dtf_train.columns = range(0,len(dtf_train.columns))\n",
        "dtf_test.columns = range(0,len(dtf_test.columns))"
      ],
      "metadata": {
        "id": "b8Nn19uyUz1I"
      },
      "id": "b8Nn19uyUz1I",
      "execution_count": null,
      "outputs": []
    },
    {
      "cell_type": "code",
      "execution_count": null,
      "metadata": {
        "id": "WVk3Oj0YVLAQ"
      },
      "outputs": [],
      "source": [
        "dtf_users = pd.DataFrame(dtf_users)"
      ],
      "id": "WVk3Oj0YVLAQ"
    },
    {
      "cell_type": "code",
      "execution_count": null,
      "metadata": {
        "id": "L-jdfCaAVgO_"
      },
      "outputs": [],
      "source": [
        "dtf_users.replace(0, np.nan, inplace=True)"
      ],
      "id": "L-jdfCaAVgO_"
    },
    {
      "cell_type": "code",
      "execution_count": null,
      "metadata": {
        "id": "gDiFuniOWN8n"
      },
      "outputs": [],
      "source": [
        "dtf_train.replace(0, np.nan, inplace=True)"
      ],
      "id": "gDiFuniOWN8n"
    },
    {
      "cell_type": "code",
      "execution_count": null,
      "metadata": {
        "id": "C1Iw34YdWSn7"
      },
      "outputs": [],
      "source": [
        "dtf_test.replace(0, np.nan, inplace=True)"
      ],
      "id": "C1Iw34YdWSn7"
    },
    {
      "cell_type": "markdown",
      "metadata": {
        "id": "pumFMmFgJexU"
      },
      "source": [
        "###### Model Design & Testing"
      ],
      "id": "pumFMmFgJexU"
    },
    {
      "cell_type": "markdown",
      "metadata": {
        "id": "5y5PtVOhJexQ"
      },
      "source": [
        "###### Data"
      ],
      "id": "5y5PtVOhJexQ"
    },
    {
      "cell_type": "code",
      "source": [
        "split = 361"
      ],
      "metadata": {
        "id": "O_Ug7-i9chan"
      },
      "id": "O_Ug7-i9chan",
      "execution_count": null,
      "outputs": []
    },
    {
      "cell_type": "code",
      "execution_count": null,
      "metadata": {
        "id": "Oe5veNHDfEJN"
      },
      "outputs": [],
      "source": [
        "train1 = dtf_train.iloc[:,:360].stack(dropna=True).reset_index().rename(columns={0:\"y\"})"
      ],
      "id": "Oe5veNHDfEJN"
    },
    {
      "cell_type": "code",
      "execution_count": null,
      "metadata": {
        "id": "Hdb94e1Qfw2p"
      },
      "outputs": [],
      "source": [
        "train2 = dtf_train.iloc[:,split:2*split-1].stack(dropna=True).reset_index().rename(columns={0:\"y\"})"
      ],
      "id": "Hdb94e1Qfw2p"
    },
    {
      "cell_type": "code",
      "execution_count": null,
      "metadata": {
        "id": "qqPUPEeQf3zq"
      },
      "outputs": [],
      "source": [
        "train3 = dtf_train.iloc[:,2*split:split*3-1].stack(dropna=True).reset_index().rename(columns={0:\"y\"})"
      ],
      "id": "qqPUPEeQf3zq"
    },
    {
      "cell_type": "code",
      "execution_count": null,
      "metadata": {
        "id": "H_miR0jgf7iO"
      },
      "outputs": [],
      "source": [
        "train4 = dtf_train.iloc[:,split*3:].stack(dropna=True).reset_index().rename(columns={0:\"y\"})"
      ],
      "id": "H_miR0jgf7iO"
    },
    {
      "cell_type": "code",
      "execution_count": null,
      "metadata": {
        "colab": {
          "base_uri": "https://localhost:8080/",
          "height": 206
        },
        "id": "13ONzTpHJexQ",
        "outputId": "c350a04c-85d0-4a96-9614-83922aeca80d"
      },
      "outputs": [
        {
          "output_type": "execute_result",
          "data": {
            "text/plain": [
              "   user  product    y\n",
              "0     2      162  4.0\n",
              "1     8      247  4.0\n",
              "2     9       25  4.0\n",
              "3    10       25  5.0\n",
              "4    11       25  4.0"
            ],
            "text/html": [
              "\n",
              "\n",
              "  <div id=\"df-1e517c47-dea6-4796-bc95-afdeb607734d\">\n",
              "    <div class=\"colab-df-container\">\n",
              "      <div>\n",
              "<style scoped>\n",
              "    .dataframe tbody tr th:only-of-type {\n",
              "        vertical-align: middle;\n",
              "    }\n",
              "\n",
              "    .dataframe tbody tr th {\n",
              "        vertical-align: top;\n",
              "    }\n",
              "\n",
              "    .dataframe thead th {\n",
              "        text-align: right;\n",
              "    }\n",
              "</style>\n",
              "<table border=\"1\" class=\"dataframe\">\n",
              "  <thead>\n",
              "    <tr style=\"text-align: right;\">\n",
              "      <th></th>\n",
              "      <th>user</th>\n",
              "      <th>product</th>\n",
              "      <th>y</th>\n",
              "    </tr>\n",
              "  </thead>\n",
              "  <tbody>\n",
              "    <tr>\n",
              "      <th>0</th>\n",
              "      <td>2</td>\n",
              "      <td>162</td>\n",
              "      <td>4.0</td>\n",
              "    </tr>\n",
              "    <tr>\n",
              "      <th>1</th>\n",
              "      <td>8</td>\n",
              "      <td>247</td>\n",
              "      <td>4.0</td>\n",
              "    </tr>\n",
              "    <tr>\n",
              "      <th>2</th>\n",
              "      <td>9</td>\n",
              "      <td>25</td>\n",
              "      <td>4.0</td>\n",
              "    </tr>\n",
              "    <tr>\n",
              "      <th>3</th>\n",
              "      <td>10</td>\n",
              "      <td>25</td>\n",
              "      <td>5.0</td>\n",
              "    </tr>\n",
              "    <tr>\n",
              "      <th>4</th>\n",
              "      <td>11</td>\n",
              "      <td>25</td>\n",
              "      <td>4.0</td>\n",
              "    </tr>\n",
              "  </tbody>\n",
              "</table>\n",
              "</div>\n",
              "      <button class=\"colab-df-convert\" onclick=\"convertToInteractive('df-1e517c47-dea6-4796-bc95-afdeb607734d')\"\n",
              "              title=\"Convert this dataframe to an interactive table.\"\n",
              "              style=\"display:none;\">\n",
              "\n",
              "  <svg xmlns=\"http://www.w3.org/2000/svg\" height=\"24px\"viewBox=\"0 0 24 24\"\n",
              "       width=\"24px\">\n",
              "    <path d=\"M0 0h24v24H0V0z\" fill=\"none\"/>\n",
              "    <path d=\"M18.56 5.44l.94 2.06.94-2.06 2.06-.94-2.06-.94-.94-2.06-.94 2.06-2.06.94zm-11 1L8.5 8.5l.94-2.06 2.06-.94-2.06-.94L8.5 2.5l-.94 2.06-2.06.94zm10 10l.94 2.06.94-2.06 2.06-.94-2.06-.94-.94-2.06-.94 2.06-2.06.94z\"/><path d=\"M17.41 7.96l-1.37-1.37c-.4-.4-.92-.59-1.43-.59-.52 0-1.04.2-1.43.59L10.3 9.45l-7.72 7.72c-.78.78-.78 2.05 0 2.83L4 21.41c.39.39.9.59 1.41.59.51 0 1.02-.2 1.41-.59l7.78-7.78 2.81-2.81c.8-.78.8-2.07 0-2.86zM5.41 20L4 18.59l7.72-7.72 1.47 1.35L5.41 20z\"/>\n",
              "  </svg>\n",
              "      </button>\n",
              "\n",
              "\n",
              "\n",
              "    <div id=\"df-5c3f003b-d94b-4978-97c2-1815d1fc0553\">\n",
              "      <button class=\"colab-df-quickchart\" onclick=\"quickchart('df-5c3f003b-d94b-4978-97c2-1815d1fc0553')\"\n",
              "              title=\"Suggest charts.\"\n",
              "              style=\"display:none;\">\n",
              "\n",
              "<svg xmlns=\"http://www.w3.org/2000/svg\" height=\"24px\"viewBox=\"0 0 24 24\"\n",
              "     width=\"24px\">\n",
              "    <g>\n",
              "        <path d=\"M19 3H5c-1.1 0-2 .9-2 2v14c0 1.1.9 2 2 2h14c1.1 0 2-.9 2-2V5c0-1.1-.9-2-2-2zM9 17H7v-7h2v7zm4 0h-2V7h2v10zm4 0h-2v-4h2v4z\"/>\n",
              "    </g>\n",
              "</svg>\n",
              "      </button>\n",
              "    </div>\n",
              "\n",
              "<style>\n",
              "  .colab-df-quickchart {\n",
              "    background-color: #E8F0FE;\n",
              "    border: none;\n",
              "    border-radius: 50%;\n",
              "    cursor: pointer;\n",
              "    display: none;\n",
              "    fill: #1967D2;\n",
              "    height: 32px;\n",
              "    padding: 0 0 0 0;\n",
              "    width: 32px;\n",
              "  }\n",
              "\n",
              "  .colab-df-quickchart:hover {\n",
              "    background-color: #E2EBFA;\n",
              "    box-shadow: 0px 1px 2px rgba(60, 64, 67, 0.3), 0px 1px 3px 1px rgba(60, 64, 67, 0.15);\n",
              "    fill: #174EA6;\n",
              "  }\n",
              "\n",
              "  [theme=dark] .colab-df-quickchart {\n",
              "    background-color: #3B4455;\n",
              "    fill: #D2E3FC;\n",
              "  }\n",
              "\n",
              "  [theme=dark] .colab-df-quickchart:hover {\n",
              "    background-color: #434B5C;\n",
              "    box-shadow: 0px 1px 3px 1px rgba(0, 0, 0, 0.15);\n",
              "    filter: drop-shadow(0px 1px 2px rgba(0, 0, 0, 0.3));\n",
              "    fill: #FFFFFF;\n",
              "  }\n",
              "</style>\n",
              "\n",
              "    <script>\n",
              "      async function quickchart(key) {\n",
              "        const containerElement = document.querySelector('#' + key);\n",
              "        const charts = await google.colab.kernel.invokeFunction(\n",
              "            'suggestCharts', [key], {});\n",
              "      }\n",
              "    </script>\n",
              "\n",
              "      <script>\n",
              "\n",
              "function displayQuickchartButton(domScope) {\n",
              "  let quickchartButtonEl =\n",
              "    domScope.querySelector('#df-5c3f003b-d94b-4978-97c2-1815d1fc0553 button.colab-df-quickchart');\n",
              "  quickchartButtonEl.style.display =\n",
              "    google.colab.kernel.accessAllowed ? 'block' : 'none';\n",
              "}\n",
              "\n",
              "        displayQuickchartButton(document);\n",
              "      </script>\n",
              "      <style>\n",
              "    .colab-df-container {\n",
              "      display:flex;\n",
              "      flex-wrap:wrap;\n",
              "      gap: 12px;\n",
              "    }\n",
              "\n",
              "    .colab-df-convert {\n",
              "      background-color: #E8F0FE;\n",
              "      border: none;\n",
              "      border-radius: 50%;\n",
              "      cursor: pointer;\n",
              "      display: none;\n",
              "      fill: #1967D2;\n",
              "      height: 32px;\n",
              "      padding: 0 0 0 0;\n",
              "      width: 32px;\n",
              "    }\n",
              "\n",
              "    .colab-df-convert:hover {\n",
              "      background-color: #E2EBFA;\n",
              "      box-shadow: 0px 1px 2px rgba(60, 64, 67, 0.3), 0px 1px 3px 1px rgba(60, 64, 67, 0.15);\n",
              "      fill: #174EA6;\n",
              "    }\n",
              "\n",
              "    [theme=dark] .colab-df-convert {\n",
              "      background-color: #3B4455;\n",
              "      fill: #D2E3FC;\n",
              "    }\n",
              "\n",
              "    [theme=dark] .colab-df-convert:hover {\n",
              "      background-color: #434B5C;\n",
              "      box-shadow: 0px 1px 3px 1px rgba(0, 0, 0, 0.15);\n",
              "      filter: drop-shadow(0px 1px 2px rgba(0, 0, 0, 0.3));\n",
              "      fill: #FFFFFF;\n",
              "    }\n",
              "  </style>\n",
              "\n",
              "      <script>\n",
              "        const buttonEl =\n",
              "          document.querySelector('#df-1e517c47-dea6-4796-bc95-afdeb607734d button.colab-df-convert');\n",
              "        buttonEl.style.display =\n",
              "          google.colab.kernel.accessAllowed ? 'block' : 'none';\n",
              "\n",
              "        async function convertToInteractive(key) {\n",
              "          const element = document.querySelector('#df-1e517c47-dea6-4796-bc95-afdeb607734d');\n",
              "          const dataTable =\n",
              "            await google.colab.kernel.invokeFunction('convertToInteractive',\n",
              "                                                     [key], {});\n",
              "          if (!dataTable) return;\n",
              "\n",
              "          const docLinkHtml = 'Like what you see? Visit the ' +\n",
              "            '<a target=\"_blank\" href=https://colab.research.google.com/notebooks/data_table.ipynb>data table notebook</a>'\n",
              "            + ' to learn more about interactive tables.';\n",
              "          element.innerHTML = '';\n",
              "          dataTable['output_type'] = 'display_data';\n",
              "          await google.colab.output.renderOutput(dataTable, element);\n",
              "          const docLink = document.createElement('div');\n",
              "          docLink.innerHTML = docLinkHtml;\n",
              "          element.appendChild(docLink);\n",
              "        }\n",
              "      </script>\n",
              "    </div>\n",
              "  </div>\n"
            ]
          },
          "metadata": {},
          "execution_count": 23
        }
      ],
      "source": [
        "train = pd.concat([train1,train2,train3,train4])\n",
        "train.columns = [\"user\",\"product\",\"y\"]\n",
        "train.head()"
      ],
      "id": "13ONzTpHJexQ"
    },
    {
      "cell_type": "code",
      "execution_count": null,
      "metadata": {
        "id": "wiyLn2cMJexR",
        "colab": {
          "base_uri": "https://localhost:8080/",
          "height": 206
        },
        "outputId": "8bf4792e-5668-402e-f28d-221a627ad73f"
      },
      "outputs": [
        {
          "output_type": "execute_result",
          "data": {
            "text/plain": [
              "   user  product    y\n",
              "0     2      482  5.0\n",
              "1     2      688  5.0\n",
              "2     8       25  4.0\n",
              "3     8     1415  5.0\n",
              "4    11      244  3.0"
            ],
            "text/html": [
              "\n",
              "\n",
              "  <div id=\"df-eb902c02-1681-4f76-8527-abd322e3c953\">\n",
              "    <div class=\"colab-df-container\">\n",
              "      <div>\n",
              "<style scoped>\n",
              "    .dataframe tbody tr th:only-of-type {\n",
              "        vertical-align: middle;\n",
              "    }\n",
              "\n",
              "    .dataframe tbody tr th {\n",
              "        vertical-align: top;\n",
              "    }\n",
              "\n",
              "    .dataframe thead th {\n",
              "        text-align: right;\n",
              "    }\n",
              "</style>\n",
              "<table border=\"1\" class=\"dataframe\">\n",
              "  <thead>\n",
              "    <tr style=\"text-align: right;\">\n",
              "      <th></th>\n",
              "      <th>user</th>\n",
              "      <th>product</th>\n",
              "      <th>y</th>\n",
              "    </tr>\n",
              "  </thead>\n",
              "  <tbody>\n",
              "    <tr>\n",
              "      <th>0</th>\n",
              "      <td>2</td>\n",
              "      <td>482</td>\n",
              "      <td>5.0</td>\n",
              "    </tr>\n",
              "    <tr>\n",
              "      <th>1</th>\n",
              "      <td>2</td>\n",
              "      <td>688</td>\n",
              "      <td>5.0</td>\n",
              "    </tr>\n",
              "    <tr>\n",
              "      <th>2</th>\n",
              "      <td>8</td>\n",
              "      <td>25</td>\n",
              "      <td>4.0</td>\n",
              "    </tr>\n",
              "    <tr>\n",
              "      <th>3</th>\n",
              "      <td>8</td>\n",
              "      <td>1415</td>\n",
              "      <td>5.0</td>\n",
              "    </tr>\n",
              "    <tr>\n",
              "      <th>4</th>\n",
              "      <td>11</td>\n",
              "      <td>244</td>\n",
              "      <td>3.0</td>\n",
              "    </tr>\n",
              "  </tbody>\n",
              "</table>\n",
              "</div>\n",
              "      <button class=\"colab-df-convert\" onclick=\"convertToInteractive('df-eb902c02-1681-4f76-8527-abd322e3c953')\"\n",
              "              title=\"Convert this dataframe to an interactive table.\"\n",
              "              style=\"display:none;\">\n",
              "\n",
              "  <svg xmlns=\"http://www.w3.org/2000/svg\" height=\"24px\"viewBox=\"0 0 24 24\"\n",
              "       width=\"24px\">\n",
              "    <path d=\"M0 0h24v24H0V0z\" fill=\"none\"/>\n",
              "    <path d=\"M18.56 5.44l.94 2.06.94-2.06 2.06-.94-2.06-.94-.94-2.06-.94 2.06-2.06.94zm-11 1L8.5 8.5l.94-2.06 2.06-.94-2.06-.94L8.5 2.5l-.94 2.06-2.06.94zm10 10l.94 2.06.94-2.06 2.06-.94-2.06-.94-.94-2.06-.94 2.06-2.06.94z\"/><path d=\"M17.41 7.96l-1.37-1.37c-.4-.4-.92-.59-1.43-.59-.52 0-1.04.2-1.43.59L10.3 9.45l-7.72 7.72c-.78.78-.78 2.05 0 2.83L4 21.41c.39.39.9.59 1.41.59.51 0 1.02-.2 1.41-.59l7.78-7.78 2.81-2.81c.8-.78.8-2.07 0-2.86zM5.41 20L4 18.59l7.72-7.72 1.47 1.35L5.41 20z\"/>\n",
              "  </svg>\n",
              "      </button>\n",
              "\n",
              "\n",
              "\n",
              "    <div id=\"df-55213c2f-8b91-4a04-ab0e-47b63501c1d4\">\n",
              "      <button class=\"colab-df-quickchart\" onclick=\"quickchart('df-55213c2f-8b91-4a04-ab0e-47b63501c1d4')\"\n",
              "              title=\"Suggest charts.\"\n",
              "              style=\"display:none;\">\n",
              "\n",
              "<svg xmlns=\"http://www.w3.org/2000/svg\" height=\"24px\"viewBox=\"0 0 24 24\"\n",
              "     width=\"24px\">\n",
              "    <g>\n",
              "        <path d=\"M19 3H5c-1.1 0-2 .9-2 2v14c0 1.1.9 2 2 2h14c1.1 0 2-.9 2-2V5c0-1.1-.9-2-2-2zM9 17H7v-7h2v7zm4 0h-2V7h2v10zm4 0h-2v-4h2v4z\"/>\n",
              "    </g>\n",
              "</svg>\n",
              "      </button>\n",
              "    </div>\n",
              "\n",
              "<style>\n",
              "  .colab-df-quickchart {\n",
              "    background-color: #E8F0FE;\n",
              "    border: none;\n",
              "    border-radius: 50%;\n",
              "    cursor: pointer;\n",
              "    display: none;\n",
              "    fill: #1967D2;\n",
              "    height: 32px;\n",
              "    padding: 0 0 0 0;\n",
              "    width: 32px;\n",
              "  }\n",
              "\n",
              "  .colab-df-quickchart:hover {\n",
              "    background-color: #E2EBFA;\n",
              "    box-shadow: 0px 1px 2px rgba(60, 64, 67, 0.3), 0px 1px 3px 1px rgba(60, 64, 67, 0.15);\n",
              "    fill: #174EA6;\n",
              "  }\n",
              "\n",
              "  [theme=dark] .colab-df-quickchart {\n",
              "    background-color: #3B4455;\n",
              "    fill: #D2E3FC;\n",
              "  }\n",
              "\n",
              "  [theme=dark] .colab-df-quickchart:hover {\n",
              "    background-color: #434B5C;\n",
              "    box-shadow: 0px 1px 3px 1px rgba(0, 0, 0, 0.15);\n",
              "    filter: drop-shadow(0px 1px 2px rgba(0, 0, 0, 0.3));\n",
              "    fill: #FFFFFF;\n",
              "  }\n",
              "</style>\n",
              "\n",
              "    <script>\n",
              "      async function quickchart(key) {\n",
              "        const containerElement = document.querySelector('#' + key);\n",
              "        const charts = await google.colab.kernel.invokeFunction(\n",
              "            'suggestCharts', [key], {});\n",
              "      }\n",
              "    </script>\n",
              "\n",
              "      <script>\n",
              "\n",
              "function displayQuickchartButton(domScope) {\n",
              "  let quickchartButtonEl =\n",
              "    domScope.querySelector('#df-55213c2f-8b91-4a04-ab0e-47b63501c1d4 button.colab-df-quickchart');\n",
              "  quickchartButtonEl.style.display =\n",
              "    google.colab.kernel.accessAllowed ? 'block' : 'none';\n",
              "}\n",
              "\n",
              "        displayQuickchartButton(document);\n",
              "      </script>\n",
              "      <style>\n",
              "    .colab-df-container {\n",
              "      display:flex;\n",
              "      flex-wrap:wrap;\n",
              "      gap: 12px;\n",
              "    }\n",
              "\n",
              "    .colab-df-convert {\n",
              "      background-color: #E8F0FE;\n",
              "      border: none;\n",
              "      border-radius: 50%;\n",
              "      cursor: pointer;\n",
              "      display: none;\n",
              "      fill: #1967D2;\n",
              "      height: 32px;\n",
              "      padding: 0 0 0 0;\n",
              "      width: 32px;\n",
              "    }\n",
              "\n",
              "    .colab-df-convert:hover {\n",
              "      background-color: #E2EBFA;\n",
              "      box-shadow: 0px 1px 2px rgba(60, 64, 67, 0.3), 0px 1px 3px 1px rgba(60, 64, 67, 0.15);\n",
              "      fill: #174EA6;\n",
              "    }\n",
              "\n",
              "    [theme=dark] .colab-df-convert {\n",
              "      background-color: #3B4455;\n",
              "      fill: #D2E3FC;\n",
              "    }\n",
              "\n",
              "    [theme=dark] .colab-df-convert:hover {\n",
              "      background-color: #434B5C;\n",
              "      box-shadow: 0px 1px 3px 1px rgba(0, 0, 0, 0.15);\n",
              "      filter: drop-shadow(0px 1px 2px rgba(0, 0, 0, 0.3));\n",
              "      fill: #FFFFFF;\n",
              "    }\n",
              "  </style>\n",
              "\n",
              "      <script>\n",
              "        const buttonEl =\n",
              "          document.querySelector('#df-eb902c02-1681-4f76-8527-abd322e3c953 button.colab-df-convert');\n",
              "        buttonEl.style.display =\n",
              "          google.colab.kernel.accessAllowed ? 'block' : 'none';\n",
              "\n",
              "        async function convertToInteractive(key) {\n",
              "          const element = document.querySelector('#df-eb902c02-1681-4f76-8527-abd322e3c953');\n",
              "          const dataTable =\n",
              "            await google.colab.kernel.invokeFunction('convertToInteractive',\n",
              "                                                     [key], {});\n",
              "          if (!dataTable) return;\n",
              "\n",
              "          const docLinkHtml = 'Like what you see? Visit the ' +\n",
              "            '<a target=\"_blank\" href=https://colab.research.google.com/notebooks/data_table.ipynb>data table notebook</a>'\n",
              "            + ' to learn more about interactive tables.';\n",
              "          element.innerHTML = '';\n",
              "          dataTable['output_type'] = 'display_data';\n",
              "          await google.colab.output.renderOutput(dataTable, element);\n",
              "          const docLink = document.createElement('div');\n",
              "          docLink.innerHTML = docLinkHtml;\n",
              "          element.appendChild(docLink);\n",
              "        }\n",
              "      </script>\n",
              "    </div>\n",
              "  </div>\n"
            ]
          },
          "metadata": {},
          "execution_count": 24
        }
      ],
      "source": [
        "test = dtf_test.stack(dropna=True).reset_index().rename(columns={0:\"y\"})\n",
        "test.columns = [\"user\",\"product\",\"y\"]\n",
        "test.head()"
      ],
      "id": "wiyLn2cMJexR"
    },
    {
      "cell_type": "markdown",
      "metadata": {
        "id": "8DzTkVFLJexV"
      },
      "source": [
        "###### Model Design"
      ],
      "id": "8DzTkVFLJexV"
    },
    {
      "cell_type": "code",
      "execution_count": null,
      "metadata": {
        "colab": {
          "base_uri": "https://localhost:8080/"
        },
        "id": "-HHGZDaVJexV",
        "outputId": "71c98f3c-dd51-4ac6-90ad-eb4d6180b14f"
      },
      "outputs": [
        {
          "output_type": "stream",
          "name": "stdout",
          "text": [
            "Model: \"Neural_CollaborativeFiltering\"\n",
            "__________________________________________________________________________________________________\n",
            " Layer (type)                   Output Shape         Param #     Connected to                     \n",
            "==================================================================================================\n",
            " xusers_in (InputLayer)         [(None, 1)]          0           []                               \n",
            "                                                                                                  \n",
            " xproducts_in (InputLayer)      [(None, 1)]          0           []                               \n",
            "                                                                                                  \n",
            " nn_xusers_emb (Embedding)      (None, 1, 50)        12495050    ['xusers_in[0][0]']              \n",
            "                                                                                                  \n",
            " nn_xproducts_emb (Embedding)   (None, 1, 50)        90250       ['xproducts_in[0][0]']           \n",
            "                                                                                                  \n",
            " cf_xusers_emb (Embedding)      (None, 1, 50)        12495050    ['xusers_in[0][0]']              \n",
            "                                                                                                  \n",
            " cf_xproducts_emb (Embedding)   (None, 1, 50)        90250       ['xproducts_in[0][0]']           \n",
            "                                                                                                  \n",
            " nn_xusers (Reshape)            (None, 50)           0           ['nn_xusers_emb[0][0]']          \n",
            "                                                                                                  \n",
            " nn_xproducts (Reshape)         (None, 50)           0           ['nn_xproducts_emb[0][0]']       \n",
            "                                                                                                  \n",
            " cf_xusers (Reshape)            (None, 50)           0           ['cf_xusers_emb[0][0]']          \n",
            "                                                                                                  \n",
            " cf_xproducts (Reshape)         (None, 50)           0           ['cf_xproducts_emb[0][0]']       \n",
            "                                                                                                  \n",
            " concatenate (Concatenate)      (None, 100)          0           ['nn_xusers[0][0]',              \n",
            "                                                                  'nn_xproducts[0][0]']           \n",
            "                                                                                                  \n",
            " cf_xx (Dot)                    (None, 1)            0           ['cf_xusers[0][0]',              \n",
            "                                                                  'cf_xproducts[0][0]']           \n",
            "                                                                                                  \n",
            " nn_xx (Dense)                  (None, 25)           2525        ['concatenate[0][0]']            \n",
            "                                                                                                  \n",
            " concatenate_1 (Concatenate)    (None, 26)           0           ['cf_xx[0][0]',                  \n",
            "                                                                  'nn_xx[0][0]']                  \n",
            "                                                                                                  \n",
            " y_out (Dense)                  (None, 1)            27          ['concatenate_1[0][0]']          \n",
            "                                                                                                  \n",
            "==================================================================================================\n",
            "Total params: 25,173,152\n",
            "Trainable params: 25,173,152\n",
            "Non-trainable params: 0\n",
            "__________________________________________________________________________________________________\n"
          ]
        }
      ],
      "source": [
        "embeddings_size = 50\n",
        "usr, prd = dtf_users.shape[0], dtf_users.shape[1]\n",
        "\n",
        "# Input layer\n",
        "xusers_in = layers.Input(name=\"xusers_in\", shape=(1,))\n",
        "xproducts_in = layers.Input(name=\"xproducts_in\", shape=(1,))\n",
        "\n",
        "# A) Matrix Factorization\n",
        "## embeddings and reshape\n",
        "cf_xusers_emb = layers.Embedding(name=\"cf_xusers_emb\", input_dim=usr, output_dim=embeddings_size)(xusers_in)\n",
        "cf_xusers = layers.Reshape(name='cf_xusers', target_shape=(embeddings_size,))(cf_xusers_emb)\n",
        "## embeddings and reshape\n",
        "cf_xproducts_emb = layers.Embedding(name=\"cf_xproducts_emb\", input_dim=prd, output_dim=embeddings_size)(xproducts_in)\n",
        "cf_xproducts = layers.Reshape(name='cf_xproducts', target_shape=(embeddings_size,))(cf_xproducts_emb)\n",
        "## product\n",
        "cf_xx = layers.Dot(name='cf_xx', normalize=False, axes=1)([cf_xusers, cf_xproducts])\n",
        "\n",
        "# B) Neural Network\n",
        "## embeddings and reshape\n",
        "nn_xusers_emb = layers.Embedding(name=\"nn_xusers_emb\", input_dim=usr, output_dim=embeddings_size)(xusers_in)\n",
        "nn_xusers = layers.Reshape(name='nn_xusers', target_shape=(embeddings_size,))(nn_xusers_emb)\n",
        "## embeddings and reshape\n",
        "nn_xproducts_emb = layers.Embedding(name=\"nn_xproducts_emb\", input_dim=prd, output_dim=embeddings_size)(xproducts_in)\n",
        "nn_xproducts = layers.Reshape(name='nn_xproducts', target_shape=(embeddings_size,))(nn_xproducts_emb)\n",
        "## concat and dense\n",
        "nn_xx = layers.Concatenate()([nn_xusers, nn_xproducts])\n",
        "nn_xx = layers.Dense(name=\"nn_xx\", units=int(embeddings_size/2), activation='relu')(nn_xx)\n",
        "\n",
        "# Merge A & B\n",
        "y_out = layers.Concatenate()([cf_xx, nn_xx])\n",
        "y_out = layers.Dense(name=\"y_out\", units=1, activation='linear')(y_out)\n",
        "\n",
        "# Compile\n",
        "model = models.Model(inputs=[xusers_in,xproducts_in], outputs=y_out, name=\"Neural_CollaborativeFiltering\")\n",
        "model.compile(optimizer='adam', loss='mean_squared_error', metrics=[metrics.MeanSquaredError()])\n",
        "model.summary()"
      ],
      "id": "-HHGZDaVJexV"
    },
    {
      "cell_type": "markdown",
      "metadata": {
        "id": "EaEqn1wHJexW"
      },
      "source": [
        "###### Train / Test"
      ],
      "id": "EaEqn1wHJexW"
    },
    {
      "cell_type": "code",
      "execution_count": null,
      "metadata": {
        "id": "31P9T6icJqP8"
      },
      "outputs": [],
      "source": [
        "'''\n",
        "Plot loss and metrics of keras training.\n",
        "'''\n",
        "def utils_plot_keras_training(training):\n",
        "    metrics = ['mean_squared_error']\n",
        "    fig, ax = plt.subplots(nrows=1, ncols=2, sharey=True, figsize=(15,3))\n",
        "\n",
        "    ## training\n",
        "    ax[0].set(title=\"Training\")\n",
        "    ax11 = ax[0]\n",
        "    ax[0].set_xlabel('Epochs')\n",
        "    for metric in metrics:\n",
        "        ax11.plot(training.history[metric], label=metric)\n",
        "    ax11.legend()\n",
        "\n",
        "    ## validation\n",
        "    ax[1].set(title=\"Validation\")\n",
        "    ax22 = ax[1].twinx()\n",
        "    ax[1].set_xlabel('Epochs')\n",
        "    for metric in metrics:\n",
        "        ax22.plot(training.history['val_'+metric], label=metric)\n",
        "    ax22.legend()\n",
        "    plt.show()"
      ],
      "id": "31P9T6icJqP8"
    },
    {
      "cell_type": "code",
      "execution_count": null,
      "metadata": {
        "id": "3_JViIEyJexW"
      },
      "outputs": [],
      "source": [
        "# train\n",
        "training = model.fit(x=[train[\"user\"], train[\"product\"]], y=train[\"y\"],\n",
        "                     epochs=40, batch_size=128, shuffle=True, verbose=0, validation_split=0.3)\n",
        "model = training.model\n",
        "utils_plot_keras_training(training)"
      ],
      "id": "3_JViIEyJexW"
    },
    {
      "cell_type": "code",
      "execution_count": null,
      "metadata": {
        "colab": {
          "base_uri": "https://localhost:8080/"
        },
        "id": "U7k-l-0jJexW",
        "outputId": "ca75597d-cc0e-4c23-f046-cabc8bbb4846"
      },
      "outputs": [
        {
          "output_type": "stream",
          "name": "stdout",
          "text": [
            "2715/2715 [==============================] - 4s 1ms/step\n"
          ]
        }
      ],
      "source": [
        "# test\n",
        "test[\"yhat\"] = model.predict([test[\"user\"], test[\"product\"]])\n",
        "test_result = pd.DataFrame(test)"
      ],
      "id": "U7k-l-0jJexW"
    },
    {
      "cell_type": "code",
      "source": [
        "test_result.head()"
      ],
      "metadata": {
        "id": "f6J9W0YXlrir",
        "colab": {
          "base_uri": "https://localhost:8080/",
          "height": 206
        },
        "outputId": "7c7e9ee7-7375-4692-8410-dc2f1757478a"
      },
      "id": "f6J9W0YXlrir",
      "execution_count": null,
      "outputs": [
        {
          "output_type": "execute_result",
          "data": {
            "text/plain": [
              "   user  product    y      yhat\n",
              "0     2      482  5.0  4.363447\n",
              "1     2      688  5.0  4.386676\n",
              "2     8       25  4.0  4.238999\n",
              "3     8     1415  5.0  4.301455\n",
              "4    11      244  3.0  3.527523"
            ],
            "text/html": [
              "\n",
              "\n",
              "  <div id=\"df-b7b4cda3-4775-40b2-a9db-826065fb8443\">\n",
              "    <div class=\"colab-df-container\">\n",
              "      <div>\n",
              "<style scoped>\n",
              "    .dataframe tbody tr th:only-of-type {\n",
              "        vertical-align: middle;\n",
              "    }\n",
              "\n",
              "    .dataframe tbody tr th {\n",
              "        vertical-align: top;\n",
              "    }\n",
              "\n",
              "    .dataframe thead th {\n",
              "        text-align: right;\n",
              "    }\n",
              "</style>\n",
              "<table border=\"1\" class=\"dataframe\">\n",
              "  <thead>\n",
              "    <tr style=\"text-align: right;\">\n",
              "      <th></th>\n",
              "      <th>user</th>\n",
              "      <th>product</th>\n",
              "      <th>y</th>\n",
              "      <th>yhat</th>\n",
              "    </tr>\n",
              "  </thead>\n",
              "  <tbody>\n",
              "    <tr>\n",
              "      <th>0</th>\n",
              "      <td>2</td>\n",
              "      <td>482</td>\n",
              "      <td>5.0</td>\n",
              "      <td>4.363447</td>\n",
              "    </tr>\n",
              "    <tr>\n",
              "      <th>1</th>\n",
              "      <td>2</td>\n",
              "      <td>688</td>\n",
              "      <td>5.0</td>\n",
              "      <td>4.386676</td>\n",
              "    </tr>\n",
              "    <tr>\n",
              "      <th>2</th>\n",
              "      <td>8</td>\n",
              "      <td>25</td>\n",
              "      <td>4.0</td>\n",
              "      <td>4.238999</td>\n",
              "    </tr>\n",
              "    <tr>\n",
              "      <th>3</th>\n",
              "      <td>8</td>\n",
              "      <td>1415</td>\n",
              "      <td>5.0</td>\n",
              "      <td>4.301455</td>\n",
              "    </tr>\n",
              "    <tr>\n",
              "      <th>4</th>\n",
              "      <td>11</td>\n",
              "      <td>244</td>\n",
              "      <td>3.0</td>\n",
              "      <td>3.527523</td>\n",
              "    </tr>\n",
              "  </tbody>\n",
              "</table>\n",
              "</div>\n",
              "      <button class=\"colab-df-convert\" onclick=\"convertToInteractive('df-b7b4cda3-4775-40b2-a9db-826065fb8443')\"\n",
              "              title=\"Convert this dataframe to an interactive table.\"\n",
              "              style=\"display:none;\">\n",
              "\n",
              "  <svg xmlns=\"http://www.w3.org/2000/svg\" height=\"24px\"viewBox=\"0 0 24 24\"\n",
              "       width=\"24px\">\n",
              "    <path d=\"M0 0h24v24H0V0z\" fill=\"none\"/>\n",
              "    <path d=\"M18.56 5.44l.94 2.06.94-2.06 2.06-.94-2.06-.94-.94-2.06-.94 2.06-2.06.94zm-11 1L8.5 8.5l.94-2.06 2.06-.94-2.06-.94L8.5 2.5l-.94 2.06-2.06.94zm10 10l.94 2.06.94-2.06 2.06-.94-2.06-.94-.94-2.06-.94 2.06-2.06.94z\"/><path d=\"M17.41 7.96l-1.37-1.37c-.4-.4-.92-.59-1.43-.59-.52 0-1.04.2-1.43.59L10.3 9.45l-7.72 7.72c-.78.78-.78 2.05 0 2.83L4 21.41c.39.39.9.59 1.41.59.51 0 1.02-.2 1.41-.59l7.78-7.78 2.81-2.81c.8-.78.8-2.07 0-2.86zM5.41 20L4 18.59l7.72-7.72 1.47 1.35L5.41 20z\"/>\n",
              "  </svg>\n",
              "      </button>\n",
              "\n",
              "\n",
              "\n",
              "    <div id=\"df-1cce3a03-9397-4004-9e9c-8635324f261b\">\n",
              "      <button class=\"colab-df-quickchart\" onclick=\"quickchart('df-1cce3a03-9397-4004-9e9c-8635324f261b')\"\n",
              "              title=\"Suggest charts.\"\n",
              "              style=\"display:none;\">\n",
              "\n",
              "<svg xmlns=\"http://www.w3.org/2000/svg\" height=\"24px\"viewBox=\"0 0 24 24\"\n",
              "     width=\"24px\">\n",
              "    <g>\n",
              "        <path d=\"M19 3H5c-1.1 0-2 .9-2 2v14c0 1.1.9 2 2 2h14c1.1 0 2-.9 2-2V5c0-1.1-.9-2-2-2zM9 17H7v-7h2v7zm4 0h-2V7h2v10zm4 0h-2v-4h2v4z\"/>\n",
              "    </g>\n",
              "</svg>\n",
              "      </button>\n",
              "    </div>\n",
              "\n",
              "<style>\n",
              "  .colab-df-quickchart {\n",
              "    background-color: #E8F0FE;\n",
              "    border: none;\n",
              "    border-radius: 50%;\n",
              "    cursor: pointer;\n",
              "    display: none;\n",
              "    fill: #1967D2;\n",
              "    height: 32px;\n",
              "    padding: 0 0 0 0;\n",
              "    width: 32px;\n",
              "  }\n",
              "\n",
              "  .colab-df-quickchart:hover {\n",
              "    background-color: #E2EBFA;\n",
              "    box-shadow: 0px 1px 2px rgba(60, 64, 67, 0.3), 0px 1px 3px 1px rgba(60, 64, 67, 0.15);\n",
              "    fill: #174EA6;\n",
              "  }\n",
              "\n",
              "  [theme=dark] .colab-df-quickchart {\n",
              "    background-color: #3B4455;\n",
              "    fill: #D2E3FC;\n",
              "  }\n",
              "\n",
              "  [theme=dark] .colab-df-quickchart:hover {\n",
              "    background-color: #434B5C;\n",
              "    box-shadow: 0px 1px 3px 1px rgba(0, 0, 0, 0.15);\n",
              "    filter: drop-shadow(0px 1px 2px rgba(0, 0, 0, 0.3));\n",
              "    fill: #FFFFFF;\n",
              "  }\n",
              "</style>\n",
              "\n",
              "    <script>\n",
              "      async function quickchart(key) {\n",
              "        const containerElement = document.querySelector('#' + key);\n",
              "        const charts = await google.colab.kernel.invokeFunction(\n",
              "            'suggestCharts', [key], {});\n",
              "      }\n",
              "    </script>\n",
              "\n",
              "      <script>\n",
              "\n",
              "function displayQuickchartButton(domScope) {\n",
              "  let quickchartButtonEl =\n",
              "    domScope.querySelector('#df-1cce3a03-9397-4004-9e9c-8635324f261b button.colab-df-quickchart');\n",
              "  quickchartButtonEl.style.display =\n",
              "    google.colab.kernel.accessAllowed ? 'block' : 'none';\n",
              "}\n",
              "\n",
              "        displayQuickchartButton(document);\n",
              "      </script>\n",
              "      <style>\n",
              "    .colab-df-container {\n",
              "      display:flex;\n",
              "      flex-wrap:wrap;\n",
              "      gap: 12px;\n",
              "    }\n",
              "\n",
              "    .colab-df-convert {\n",
              "      background-color: #E8F0FE;\n",
              "      border: none;\n",
              "      border-radius: 50%;\n",
              "      cursor: pointer;\n",
              "      display: none;\n",
              "      fill: #1967D2;\n",
              "      height: 32px;\n",
              "      padding: 0 0 0 0;\n",
              "      width: 32px;\n",
              "    }\n",
              "\n",
              "    .colab-df-convert:hover {\n",
              "      background-color: #E2EBFA;\n",
              "      box-shadow: 0px 1px 2px rgba(60, 64, 67, 0.3), 0px 1px 3px 1px rgba(60, 64, 67, 0.15);\n",
              "      fill: #174EA6;\n",
              "    }\n",
              "\n",
              "    [theme=dark] .colab-df-convert {\n",
              "      background-color: #3B4455;\n",
              "      fill: #D2E3FC;\n",
              "    }\n",
              "\n",
              "    [theme=dark] .colab-df-convert:hover {\n",
              "      background-color: #434B5C;\n",
              "      box-shadow: 0px 1px 3px 1px rgba(0, 0, 0, 0.15);\n",
              "      filter: drop-shadow(0px 1px 2px rgba(0, 0, 0, 0.3));\n",
              "      fill: #FFFFFF;\n",
              "    }\n",
              "  </style>\n",
              "\n",
              "      <script>\n",
              "        const buttonEl =\n",
              "          document.querySelector('#df-b7b4cda3-4775-40b2-a9db-826065fb8443 button.colab-df-convert');\n",
              "        buttonEl.style.display =\n",
              "          google.colab.kernel.accessAllowed ? 'block' : 'none';\n",
              "\n",
              "        async function convertToInteractive(key) {\n",
              "          const element = document.querySelector('#df-b7b4cda3-4775-40b2-a9db-826065fb8443');\n",
              "          const dataTable =\n",
              "            await google.colab.kernel.invokeFunction('convertToInteractive',\n",
              "                                                     [key], {});\n",
              "          if (!dataTable) return;\n",
              "\n",
              "          const docLinkHtml = 'Like what you see? Visit the ' +\n",
              "            '<a target=\"_blank\" href=https://colab.research.google.com/notebooks/data_table.ipynb>data table notebook</a>'\n",
              "            + ' to learn more about interactive tables.';\n",
              "          element.innerHTML = '';\n",
              "          dataTable['output_type'] = 'display_data';\n",
              "          await google.colab.output.renderOutput(dataTable, element);\n",
              "          const docLink = document.createElement('div');\n",
              "          docLink.innerHTML = docLinkHtml;\n",
              "          element.appendChild(docLink);\n",
              "        }\n",
              "      </script>\n",
              "    </div>\n",
              "  </div>\n"
            ]
          },
          "metadata": {},
          "execution_count": 61
        }
      ]
    },
    {
      "cell_type": "markdown",
      "metadata": {
        "id": "OaLCvUJDJexX"
      },
      "source": [
        "###### Evaluate"
      ],
      "id": "OaLCvUJDJexX"
    },
    {
      "cell_type": "code",
      "source": [
        "positive_count = 0\n",
        "negative_count = 0\n",
        "same_rating_count = 0\n",
        "total_count = 0\n",
        "for i in range(int(test_result.shape[0]/2)):\n",
        "  total_count += 2\n",
        "  user = test_result.iloc[i*2].user\n",
        "  test_case = {'user':[user for _ in range(0,1805)],'product':[i for i in range(0,1805)]}\n",
        "  test_case = pd.DataFrame(test_case)\n",
        "  test_case[\"yhat\"] = model.predict([test_case[\"user\"], test_case[\"product\"]])\n",
        "  test_top6 = test_case.sort_values(by = ['yhat'],ascending = False).iloc[:6]\n",
        "  restaurant_index = top6.index.tolist()\n",
        "  rest_1 = test_result['product'].iloc[i*2]\n",
        "  rest_2 = test_result['product'].iloc[i*2+1]\n",
        "  if rest_1 in restaurant_index:\n",
        "    positive_count += 1\n",
        "  if rest_2 in restaurant_index:\n",
        "    positive_count += 1\n",
        "print('postive')\n",
        "print(positive_count)\n",
        "print('total')\n",
        "print(total_count)"
      ],
      "metadata": {
        "id": "AZKEHxShhdXb"
      },
      "id": "AZKEHxShhdXb",
      "execution_count": null,
      "outputs": []
    },
    {
      "cell_type": "code",
      "source": [
        "positive_count = 0\n",
        "negative_count = 0\n",
        "same_rating_count = 0\n",
        "total_count = 0\n",
        "for i in range(int(test_result.shape[0]/2)):\n",
        "  rating_1 = test_result.iloc[i*2].y\n",
        "  rating_2 = test_result.iloc[i*2+1].y\n",
        "  model_result_1 = test_result.iloc[i*2].yhat\n",
        "  model_result_2 = test_result.iloc[i*2+1].yhat\n",
        "  if rating_1 == rating_2:\n",
        "    same_rating_count += 1\n",
        "    continue\n",
        "  if (rating_1 > rating_2) and (model_result_1 >= model_result_2):\n",
        "    positive_count += 1\n",
        "  elif (rating_1 < rating_2) and (model_result_1 <= model_result_2):\n",
        "    positive_count += 1\n",
        "  elif (rating_1 > rating_2) and (model_result_1 < model_result_2):\n",
        "    negative_count += 1\n",
        "  elif (rating_1 < rating_2) and (model_result_1 > model_result_2):\n",
        "    negative_count += 1\n",
        "print('postive')\n",
        "print(positive_count)\n",
        "print('negative')\n",
        "print(negative_count)\n",
        "print('same ratings')\n",
        "print(same_rating_count)\n",
        "print('total')\n",
        "print(total_count)"
      ],
      "metadata": {
        "colab": {
          "base_uri": "https://localhost:8080/"
        },
        "id": "EccOLUGfStIY",
        "outputId": "79736a6f-f7a9-454f-8b8e-63e92dbf7582"
      },
      "id": "EccOLUGfStIY",
      "execution_count": null,
      "outputs": [
        {
          "output_type": "stream",
          "name": "stdout",
          "text": [
            "postive\n",
            "14013\n",
            "negative\n",
            "10694\n",
            "same ratings\n",
            "18733\n",
            "total\n",
            "0\n"
          ]
        }
      ]
    },
    {
      "cell_type": "code",
      "execution_count": null,
      "metadata": {
        "id": "BdNYSQgQJexX"
      },
      "outputs": [],
      "source": [
        "# overall\n",
        "y_test = test_result[\"y\"]\n",
        "predicted = test_result[\"yhat\"]\n",
        "print(metrics.mean_squared_error(y_test, predicted))"
      ],
      "id": "BdNYSQgQJexX"
    },
    {
      "cell_type": "code",
      "execution_count": null,
      "metadata": {
        "id": "-8l3vnrd5TaT"
      },
      "outputs": [],
      "source": [],
      "id": "-8l3vnrd5TaT"
    }
  ],
  "metadata": {
    "accelerator": "GPU",
    "colab": {
      "machine_shape": "hm",
      "provenance": [],
      "gpuType": "A100"
    },
    "kernelspec": {
      "display_name": "Python 3",
      "name": "python3"
    },
    "language_info": {
      "codemirror_mode": {
        "name": "ipython",
        "version": 3
      },
      "file_extension": ".py",
      "mimetype": "text/x-python",
      "name": "python",
      "nbconvert_exporter": "python",
      "pygments_lexer": "ipython3",
      "version": "3.8.5"
    }
  },
  "nbformat": 4,
  "nbformat_minor": 5
}